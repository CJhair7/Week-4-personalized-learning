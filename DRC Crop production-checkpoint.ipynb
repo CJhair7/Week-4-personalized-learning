{
 "cells": [
  {
   "cell_type": "code",
   "execution_count": 28,
   "id": "1d5876f5-035b-49af-9c25-cd71d13e0748",
   "metadata": {},
   "outputs": [
    {
     "name": "stdout",
     "output_type": "stream",
     "text": [
      "        Row Labels  Average of value  Max of value  Min of value  \\\n",
      "0         Bas-Uele      16502.980980        906416             0   \n",
      "1         Equateur       2557.810606        212188             0   \n",
      "2     Haut-Katanga      38204.687500        932535             0   \n",
      "3      Haut-Lomami      78192.385710       1943040             0   \n",
      "4        Haut-Uele       5324.737903        337900             0   \n",
      "5            Ituri     126008.964300       3899437             0   \n",
      "6            Kasaï     127964.602300       5987601             0   \n",
      "7    Kasaï-Central     103186.948500       3400451             0   \n",
      "8   Kasaï-Oriental      52349.125000        462565             0   \n",
      "9         Kinshasa     138350.218800       1452116             0   \n",
      "10   Kongo-Central      45334.951390        776675             0   \n",
      "11          Kwango     197786.241700       3725130             0   \n",
      "12           Kwilu      56886.109380       1291916             0   \n",
      "13          Lomami     449013.159700       7882234             0   \n",
      "14         Lualaba      45387.940970        838416             0   \n",
      "15      Maï-Ndombe      11291.686110        814173             0   \n",
      "16         Maniema      57941.925600       1436247             0   \n",
      "17         Mongala       5134.056250        362184             0   \n",
      "18       Nord-Kivu      62778.270830       2305792             0   \n",
      "19     Nord-Ubangi     149848.312500       3146029             0   \n",
      "20         Sankuru      16138.760140        385521             0   \n",
      "21        Sud-Kivu      78163.201390       1523112             0   \n",
      "22      Sud-Ubangi     122722.479200       5156604             0   \n",
      "23      Tanganyika      53673.681550       2118453             0   \n",
      "24          Tshopo       4189.675000        186761             0   \n",
      "25         Tshuapa          0.000000             0             0   \n",
      "26     Grand Total      60953.073880       7882234             0   \n",
      "\n",
      "    StdDev of value  \n",
      "0      8.850520e+04  \n",
      "1      1.740200e+04  \n",
      "2      1.259840e+05  \n",
      "3      2.405714e+05  \n",
      "4      3.661108e+04  \n",
      "5      5.188763e+05  \n",
      "6      5.843454e+05  \n",
      "7      4.004491e+05  \n",
      "8      1.248857e+05  \n",
      "9      3.351108e+05  \n",
      "10     1.318164e+05  \n",
      "11     5.913059e+05  \n",
      "12     1.863885e+05  \n",
      "13     1.284938e+06  \n",
      "14     1.354682e+05  \n",
      "15     6.019931e+04  \n",
      "16     1.987852e+05  \n",
      "17     3.656204e+04  \n",
      "18     2.807355e+05  \n",
      "19     5.439876e+05  \n",
      "20     5.431354e+04  \n",
      "21     2.601460e+05  \n",
      "22     5.940913e+05  \n",
      "23     1.994466e+05  \n",
      "24     2.179053e+04  \n",
      "25     0.000000e+00  \n",
      "26     3.398288e+05  \n"
     ]
    }
   ],
   "source": [
    "import pandas as pd\n",
    "df = pd.read_csv('C:/Users/crist/Data Sets/DRC_Crop_Production.csv.csv')\n",
    "print(df)"
   ]
  },
  {
   "cell_type": "code",
   "execution_count": 42,
   "id": "9bf90698-c9af-4430-bf4e-f175f380ad9a",
   "metadata": {},
   "outputs": [
    {
     "data": {
      "image/png": "[encoded data removed]",
      "text/plain": [
       "<Figure size 640x480 with 1 Axes>"
      ]
     },
     "metadata": {},
     "output_type": "display_data"
    }
   ],
   "source": [
    "import matplotlib.pyplot as plt\n",
    "fig, ax = plt.subplots()\n",
    "ax.hist('Row Labels', bins=10, edgecolor='black')\n",
    "ax.set_xlabel(\"Value\")\n",
    "ax.set_ylabel(\"Average\")\n",
    "plt.show()"
   ]
  },
  {
   "cell_type": "code",
   "execution_count": 44,
   "id": "422886a5-6225-459c-ba70-6018e07e67ec",
   "metadata": {},
   "outputs": [
    {
     "name": "stdout",
     "output_type": "stream",
     "text": [
      "Data saved to C:/Users/crist/Data Sets/histogram_data.csv\n"
     ]
    }
   ],
   "source": [
    "output_file = 'C:/Users/crist/Data Sets/histogram_data.csv'\n",
    "df.to_csv(output_file, index=False)\n",
    "print(f\"Data saved to {output_file}\")"
   ]
  },
  {
   "cell_type": "code",
   "execution_count": null,
   "id": "fdc16152-2db7-4b07-b90f-289aba3b0c1a",
   "metadata": {},
   "outputs": [],
   "source": []
  }
 ],
 "metadata": {
  "kernelspec": {
   "display_name": "Python 3 (ipykernel)",
   "language": "python",
   "name": "python3"
  },
  "language_info": {
   "codemirror_mode": {
    "name": "ipython",
    "version": 3
   },
   "file_extension": ".py",
   "mimetype": "text/x-python",
   "name": "python",
   "nbconvert_exporter": "python",
   "pygments_lexer": "ipython3",
   "version": "3.12.7"
  }
 },
 "nbformat": 4,
 "nbformat_minor": 5
}
